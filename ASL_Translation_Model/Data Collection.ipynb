{
 "cells": [
  {
   "cell_type": "markdown",
   "metadata": {},
   "source": [
    "# Data Collection"
   ]
  },
  {
   "cell_type": "markdown",
   "metadata": {},
   "source": [
    "20 Words (daily used words): <br>\n",
    "\"Family\", \"Friends\", \"Work\", \"School\", \"Home\", \"Car\", \"Happy\", \"Sad\", \"Play\", \"Help\", \"Eat\", \"Drink\", \"Sleep\", \"Sorry\", \"Computer\", \"Money\", \"Phone\", \"Cloth\", \"Me\", \"Stop\""
   ]
  },
  {
   "cell_type": "markdown",
   "metadata": {},
   "source": [
    "## Import Library"
   ]
  },
  {
   "cell_type": "code",
   "execution_count": 1,
   "metadata": {},
   "outputs": [],
   "source": [
    "import cv2\n",
    "import numpy as np\n",
    "import os\n",
    "from matplotlib import pyplot as plt\n",
    "import time\n",
    "import mediapipe as mp"
   ]
  },
  {
   "cell_type": "markdown",
   "metadata": {},
   "source": [
    "## Keypoint using Mediapipe Holistic"
   ]
  },
  {
   "cell_type": "code",
   "execution_count": 2,
   "metadata": {},
   "outputs": [],
   "source": [
    "mp_holistic = mp.solutions.holistic # Holistic model\n",
    "mp_drawing = mp.solutions.drawing_utils # Drawing utilities"
   ]
  },
  {
   "cell_type": "code",
   "execution_count": 3,
   "metadata": {},
   "outputs": [],
   "source": [
    "# Color conversion \n",
    "def mediapipe_detection(image, model):\n",
    "    image = cv2.cvtColor(image, cv2.COLOR_BGR2RGB) # COLOR CONVERSION BGR to RGB\n",
    "    image.flags.writeable = False                  # Image is no longer writeable\n",
    "    results = model.process(image)                 # Make prediction\n",
    "    image.flags.writeable = True                   # Image is now writeable \n",
    "    image = cv2.cvtColor(image, cv2.COLOR_RGB2BGR) # COLOR COVERSION RGB to BGR\n",
    "    return image, results"
   ]
  },
  {
   "cell_type": "code",
   "execution_count": 4,
   "metadata": {},
   "outputs": [],
   "source": [
    "def draw_styled_landmarks(image, results):\n",
    "    # Draw face connections\n",
    "    mp_drawing.draw_landmarks(image, results.face_landmarks, mp_holistic.FACEMESH_CONTOURS, \n",
    "                             mp_drawing.DrawingSpec(color=(80,110,10), thickness=1, circle_radius=1), \n",
    "                             mp_drawing.DrawingSpec(color=(80,256,121), thickness=1, circle_radius=1)\n",
    "                             ) \n",
    "    # Draw pose connections\n",
    "    mp_drawing.draw_landmarks(image, results.pose_landmarks, mp_holistic.POSE_CONNECTIONS,\n",
    "                             mp_drawing.DrawingSpec(color=(80,22,10), thickness=2, circle_radius=4), \n",
    "                             mp_drawing.DrawingSpec(color=(80,44,121), thickness=2, circle_radius=2)\n",
    "                             ) \n",
    "    # Draw left hand connections\n",
    "    mp_drawing.draw_landmarks(image, results.left_hand_landmarks, mp_holistic.HAND_CONNECTIONS, \n",
    "                             mp_drawing.DrawingSpec(color=(121,22,76), thickness=2, circle_radius=2), \n",
    "                             mp_drawing.DrawingSpec(color=(121,44,250), thickness=2, circle_radius=1)\n",
    "                             ) \n",
    "    # Draw right hand connections  \n",
    "    mp_drawing.draw_landmarks(image, results.right_hand_landmarks, mp_holistic.HAND_CONNECTIONS, \n",
    "                             mp_drawing.DrawingSpec(color=(245,117,66), thickness=2, circle_radius=2), \n",
    "                             mp_drawing.DrawingSpec(color=(245,66,230), thickness=2, circle_radius=1)\n",
    "                             ) "
   ]
  },
  {
   "cell_type": "markdown",
   "metadata": {},
   "source": [
    "## Extract Keypoint Values"
   ]
  },
  {
   "cell_type": "code",
   "execution_count": 5,
   "metadata": {},
   "outputs": [],
   "source": [
    "def extract_keypoints(results):\n",
    "    pose = np.array([[res.x, res.y, res.z, res.visibility] for res in results.pose_landmarks.landmark]).flatten() if results.pose_landmarks else np.zeros(33*4)\n",
    "    face = np.array([[res.x, res.y, res.z] for res in results.face_landmarks.landmark]).flatten() if results.face_landmarks else np.zeros(468*3)\n",
    "    lh = np.array([[res.x, res.y, res.z] for res in results.left_hand_landmarks.landmark]).flatten() if results.left_hand_landmarks else np.zeros(21*3)\n",
    "    rh = np.array([[res.x, res.y, res.z] for res in results.right_hand_landmarks.landmark]).flatten() if results.right_hand_landmarks else np.zeros(21*3)\n",
    "    return np.concatenate([pose, face, lh, rh])"
   ]
  },
  {
   "cell_type": "markdown",
   "metadata": {},
   "source": [
    "## Setup Folders for Data Collection"
   ]
  },
  {
   "cell_type": "code",
   "execution_count": 6,
   "metadata": {},
   "outputs": [],
   "source": [
    "# Desired path for data\n",
    "desired_path = \"C:\\\\Users\\\\erwin\\\\Desktop\\\\ASL_Translation_FYP\"\n",
    "\n",
    "# Creating a subfolder for MP_Data within the desired path\n",
    "# DATA_PATH = os.path.join(desired_path, 'ASL_Dataset')\n",
    "\n",
    "DATA_PATH = os.path.join(desired_path, 'ASL_Dataset2')  \n",
    "\n",
    "# Actions that we try to detect\n",
    "actions = np.array([\"Family\", \"Friends\", \"Work\", \"School\", \"Home\", \"Car\", \"Happy\", \"Sad\", \"Play\", \n",
    "                    \"Help\", \"Eat\", \"Drink\", \"Sleep\", \"Sorry\", \"Computer\", \"Money\", \"Phone\", \"Cloth\", \"Me\", \"Stop\"])\n",
    "\n",
    "# Thirty videos worth of data\n",
    "no_sequences = 40\n",
    "\n",
    "# Videos are going to be 30 frames in length\n",
    "sequence_length = 30\n",
    "\n",
    "# Folder start\n",
    "start_folder = 1"
   ]
  },
  {
   "cell_type": "code",
   "execution_count": 8,
   "metadata": {},
   "outputs": [],
   "source": [
    "for action in actions:\n",
    "    action_path = os.path.join(DATA_PATH, action)\n",
    "    \n",
    "    # Check if the action directory exists, create if not\n",
    "    if not os.path.exists(action_path):\n",
    "        os.makedirs(action_path)\n",
    "        dirmax = 0\n",
    "    else:\n",
    "        # List directories that are numeric and find the max\n",
    "        dir_list = [int(dir_name) for dir_name in os.listdir(action_path) if dir_name.isdigit()]\n",
    "        if dir_list:  # If the directory is not empty and has numeric folders\n",
    "            dirmax = max(dir_list)\n",
    "        else:\n",
    "            dirmax = 0\n",
    "\n",
    "    # Calculate how many new directories need to be created to reach a total of 40\n",
    "    existing_dirs_count = len(dir_list)\n",
    "    new_dirs_to_create = no_sequences - existing_dirs_count\n",
    "\n",
    "    # Create directories if fewer than 40 exist\n",
    "    if new_dirs_to_create > 0:\n",
    "        for sequence in range(1, new_dirs_to_create + 1):\n",
    "            new_dir_path = os.path.join(action_path, str(dirmax + sequence))\n",
    "            os.makedirs(new_dir_path, exist_ok=True)\n",
    "    else:\n",
    "        print(f\"No new directories needed for '{action}'. Already has {existing_dirs_count} directories.\")"
   ]
  },
  {
   "cell_type": "markdown",
   "metadata": {},
   "source": [
    "## Data Collection"
   ]
  },
  {
   "cell_type": "code",
   "execution_count": 9,
   "metadata": {},
   "outputs": [
    {
     "name": "stdout",
     "output_type": "stream",
     "text": [
      "Recording stopped by user.\n"
     ]
    }
   ],
   "source": [
    "action = input(f\"Choose an action to record {actions}: \")\n",
    "\n",
    "if action not in actions:\n",
    "    print(\"Invalid action selected.\")\n",
    "else:\n",
    "    cap = cv2.VideoCapture(0)\n",
    "\n",
    "    # Set mediapipe model\n",
    "    with mp_holistic.Holistic(min_detection_confidence=0.5, min_tracking_confidence=0.5) as holistic:\n",
    "        stop = False  # Global flag to stop recording\n",
    "        # Loop through 40 sequences for the chosen action\n",
    "        for sequence in range(1, no_sequences + 1):\n",
    "            if stop:\n",
    "                break\n",
    "            \n",
    "            # Reset frame before each video starts\n",
    "            ret, frame = cap.read()\n",
    "            if not ret:\n",
    "                print(\"Failed to grab frame.\")\n",
    "                break\n",
    "\n",
    "            image, results = mediapipe_detection(frame, holistic)\n",
    "            draw_styled_landmarks(image, results)\n",
    "\n",
    "            initial_text = f'Start Collection for {action} - Video {sequence}'\n",
    "            cv2.putText(image, initial_text, (15, 30), cv2.FONT_HERSHEY_SIMPLEX, 1, (0,0,255), 2, cv2.LINE_AA)\n",
    "            cv2.imshow('OpenCV Feed', image)\n",
    "            cv2.waitKey(2000)  # Show initial text for a bit longer\n",
    "\n",
    "            for frame_num in range(sequence_length):\n",
    "                ret, frame = cap.read()\n",
    "                if not ret:\n",
    "                    print(\"Failed to grab frame.\")\n",
    "                    break\n",
    "\n",
    "                image, results = mediapipe_detection(frame, holistic)\n",
    "                draw_styled_landmarks(image, results)\n",
    "\n",
    "                # Update the display text for frame collection\n",
    "                display_text = f'Collecting frames for {action} - Video {sequence}'\n",
    "                cv2.putText(image, display_text, (15,20), cv2.FONT_HERSHEY_SIMPLEX, 0.5, (0,0,255), 1, cv2.LINE_AA)\n",
    "                cv2.imshow('OpenCV Feed', image)\n",
    "\n",
    "                # NEW Export keypoints\n",
    "                keypoints = extract_keypoints(results)\n",
    "                npy_path = os.path.join(DATA_PATH, action, str(sequence), str(frame_num))\n",
    "                np.save(npy_path, keypoints)\n",
    "\n",
    "                # Check for 'q' to quit\n",
    "                if cv2.waitKey(10) & 0xFF == ord('q'):\n",
    "                    stop = True\n",
    "                    break\n",
    "\n",
    "            if stop:\n",
    "                print(\"Recording stopped by user.\")\n",
    "                break\n",
    "\n",
    "    cap.release()\n",
    "    cv2.destroyAllWindows()"
   ]
  }
 ],
 "metadata": {
  "kernelspec": {
   "display_name": "Python 3 (ipykernel)",
   "language": "python",
   "name": "python3"
  },
  "language_info": {
   "codemirror_mode": {
    "name": "ipython",
    "version": 3
   },
   "file_extension": ".py",
   "mimetype": "text/x-python",
   "name": "python",
   "nbconvert_exporter": "python",
   "pygments_lexer": "ipython3",
   "version": "3.11.7"
  }
 },
 "nbformat": 4,
 "nbformat_minor": 4
}
